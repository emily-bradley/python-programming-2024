{
  "cells": [
    {
      "cell_type": "markdown",
      "id": "4b27cbd2",
      "metadata": {
        "id": "4b27cbd2"
      },
      "source": [
        "\n",
        "# Python Programming Assignment: Exploratory Data Analysis and Visualizations\n",
        "\n",
        "### Objective\n",
        "The goal of this assignment is to perform Exploratory Data Analysis (EDA) on a real-world dataset and create meaningful visualizations using Python. This will help you understand the dataset, uncover trends, and effectively communicate insights.\n",
        "\n",
        "---\n",
        "\n",
        "### Dataset\n",
        "You will use the **Titanic Dataset** for this assignment. It contains information about the passengers aboard the Titanic, including demographics, ticket class, and survival status.\n",
        "\n",
        "---\n",
        "\n",
        "### Instructions\n",
        "\n",
        "1. **Load the Dataset**\n",
        "   - Import the Titanic dataset directly using Seaborn's `load_dataset` function.\n",
        "\n",
        "2. **Perform Basic Data Exploration**\n",
        "   - Display the first few rows of the dataset.\n",
        "   - Print the dataset's shape, columns, and summary information (`info` and `describe` methods).\n",
        "   - Check for missing values in the dataset.\n",
        "\n",
        "3. **Answer Key Questions with Visualizations**\n",
        "   - Create visualizations to answer the following questions:\n",
        "     1. How does the survival rate vary by passenger class (`pclass`)?\n",
        "     2. What is the distribution of ages among passengers? Use a histogram or KDE plot.\n",
        "     3. Are survival rates different between males and females?\n",
        "     4. How does the survival rate differ for passengers with family aboard (`sibsp`, `parch`)?\n",
        "\n",
        "4. **Bonus Tasks**\n",
        "   - Explore relationships between multiple variables using a pair plot.\n",
        "   - Create a heatmap to visualize any correlations in the dataset.\n",
        "\n",
        "5. **Submit Your Work**\n",
        "   - Save your completed Jupyter notebook as `Python_Programming_Assignment_2.ipynb` and submit it.\n",
        "\n",
        "---\n",
        "\n",
        "### Example Starter Code\n"
      ]
    },
    {
      "cell_type": "code",
      "execution_count": null,
      "id": "2dfc66a3",
      "metadata": {
        "id": "2dfc66a3"
      },
      "outputs": [],
      "source": [
        "\n",
        "# Import Libraries\n",
        "import pandas as pd\n",
        "import seaborn as sns\n",
        "import matplotlib.pyplot as plt\n",
        "\n",
        "# Load Dataset\n",
        "data = sns.load_dataset(\"titanic\")\n",
        "\n",
        "# Display First Few Rows\n",
        "print(data.head())\n",
        "\n",
        "# Print Dataset Information\n",
        "print(data.info())\n"
      ]
    },
    {
      "cell_type": "markdown",
      "id": "fee5624c",
      "metadata": {
        "id": "fee5624c"
      },
      "source": [
        "\n",
        "### Deliverables\n",
        "1. A clear and well-commented Jupyter notebook with your EDA process and visualizations.\n",
        "2. Insightful observations based on your analysis.\n",
        "\n",
        "---\n",
        "\n",
        "### Grading Rubric\n",
        "| **Criteria**                        | **Points** |\n",
        "|-------------------------------------|------------|\n",
        "| Data Exploration                    | 10         |\n",
        "| Visualizations                      | 20         |\n",
        "| Answers to Key Questions            | 20         |\n",
        "| Creativity in Bonus Tasks           | 10         |\n",
        "| Code Quality and Documentation      | 10         |\n",
        "| **Total**                           | **70**     |\n"
      ]
    }
  ],
  "metadata": {
    "colab": {
      "provenance": []
    }
  },
  "nbformat": 4,
  "nbformat_minor": 5
}